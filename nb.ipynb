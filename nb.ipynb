{
 "cells": [
  {
   "cell_type": "code",
   "execution_count": 2,
   "metadata": {},
   "outputs": [],
   "source": [
    "from natten import (\n",
    "  NeighborhoodAttention1D,\n",
    "  NeighborhoodAttention2D,\n",
    "  NeighborhoodAttention3D,\n",
    ")\n",
    "na1d = NeighborhoodAttention1D(dim=128, kernel_size=7, dilation=3, num_heads=4)\n",
    "na2d = NeighborhoodAttention2D(dim=128, kernel_size=7, dilation=3, num_heads=4)\n",
    "na3d = NeighborhoodAttention3D(dim=128, kernel_size=7, dilation=3, num_heads=4)"
   ]
  },
  {
   "cell_type": "code",
   "execution_count": 3,
   "metadata": {},
   "outputs": [
    {
     "data": {
      "text/plain": [
       "'head_dim=32, num_heads=4, kernel_size=7, dilation=3, has_bias=True'"
      ]
     },
     "execution_count": 3,
     "metadata": {},
     "output_type": "execute_result"
    }
   ],
   "source": [
    "na1d.extra_repr()"
   ]
  },
  {
   "cell_type": "code",
   "execution_count": null,
   "metadata": {},
   "outputs": [],
   "source": []
  },
  {
   "cell_type": "code",
   "execution_count": 10,
   "metadata": {},
   "outputs": [
    {
     "data": {
      "text/html": [
       "<div>\n",
       "<style scoped>\n",
       "    .dataframe tbody tr th:only-of-type {\n",
       "        vertical-align: middle;\n",
       "    }\n",
       "\n",
       "    .dataframe tbody tr th {\n",
       "        vertical-align: top;\n",
       "    }\n",
       "\n",
       "    .dataframe thead th {\n",
       "        text-align: right;\n",
       "    }\n",
       "</style>\n",
       "<table border=\"1\" class=\"dataframe\">\n",
       "  <thead>\n",
       "    <tr style=\"text-align: right;\">\n",
       "      <th></th>\n",
       "      <th>fullpath</th>\n",
       "    </tr>\n",
       "  </thead>\n",
       "  <tbody>\n",
       "    <tr>\n",
       "      <th>0</th>\n",
       "      <td>/mnt/datadrive/asos_dataset/tshirts_orig_biges...</td>\n",
       "    </tr>\n",
       "    <tr>\n",
       "      <th>1</th>\n",
       "      <td>/mnt/datadrive/asos_dataset/tshirts_orig_biges...</td>\n",
       "    </tr>\n",
       "    <tr>\n",
       "      <th>2</th>\n",
       "      <td>/mnt/datadrive/asos_dataset/tshirts_orig_biges...</td>\n",
       "    </tr>\n",
       "    <tr>\n",
       "      <th>3</th>\n",
       "      <td>/mnt/datadrive/asos_dataset/tshirts_orig_biges...</td>\n",
       "    </tr>\n",
       "    <tr>\n",
       "      <th>4</th>\n",
       "      <td>/mnt/datadrive/asos_dataset/tshirts_orig_biges...</td>\n",
       "    </tr>\n",
       "  </tbody>\n",
       "</table>\n",
       "</div>"
      ],
      "text/plain": [
       "                                            fullpath\n",
       "0  /mnt/datadrive/asos_dataset/tshirts_orig_biges...\n",
       "1  /mnt/datadrive/asos_dataset/tshirts_orig_biges...\n",
       "2  /mnt/datadrive/asos_dataset/tshirts_orig_biges...\n",
       "3  /mnt/datadrive/asos_dataset/tshirts_orig_biges...\n",
       "4  /mnt/datadrive/asos_dataset/tshirts_orig_biges..."
      ]
     },
     "execution_count": 10,
     "metadata": {},
     "output_type": "execute_result"
    }
   ],
   "source": [
    "from pathlib import Path\n",
    "import pandas as pd\n",
    "\n",
    "datapath = '/mnt/datadrive'\n",
    "x = list(filter(lambda x: x.suffix=='.png', Path(datapath).rglob('*')))\n",
    "df = pd.DataFrame(x, columns=['fullpath'])\n",
    "df.head(5)"
   ]
  },
  {
   "cell_type": "code",
   "execution_count": 15,
   "metadata": {},
   "outputs": [
    {
     "data": {
      "text/plain": [
       "item_idx\n",
       "0      4\n",
       "471    4\n",
       "465    4\n",
       "466    4\n",
       "467    4\n",
       "      ..\n",
       "276    4\n",
       "277    4\n",
       "278    4\n",
       "279    4\n",
       "99     4\n",
       "Name: count, Length: 609, dtype: int64"
      ]
     },
     "execution_count": 15,
     "metadata": {},
     "output_type": "execute_result"
    }
   ],
   "source": [
    "df['item_idx'] = df['fullpath'].apply(lambda x: int(x.parent.stem))\n",
    "df['item_idx'].value_counts()"
   ]
  },
  {
   "cell_type": "code",
   "execution_count": 24,
   "metadata": {},
   "outputs": [],
   "source": [
    "df.to_csv('all_imgs.csv', index=False)"
   ]
  },
  {
   "cell_type": "code",
   "execution_count": 23,
   "metadata": {},
   "outputs": [],
   "source": [
    "from PIL import Image\n",
    "from matplotlib import pyplot as plt\n",
    "\n",
    "# for j in [0, 1, 2, 3, 44, 55, 99]:\n",
    "#     for i in df[df['item_idx']==j]['fullpath'].values:\n",
    "#         print(i)\n",
    "#         img = Image.open(i)\n",
    "#         plt.imshow(img)\n",
    "#         plt.show()    "
   ]
  },
  {
   "cell_type": "code",
   "execution_count": 26,
   "metadata": {},
   "outputs": [
    {
     "name": "stdout",
     "output_type": "stream",
     "text": [
      "0\n",
      "                                            fullpath  item_idx\n",
      "0  /mnt/datadrive/asos_dataset/tshirts_orig_biges...         0\n",
      "1  /mnt/datadrive/asos_dataset/tshirts_orig_biges...         0\n",
      "2  /mnt/datadrive/asos_dataset/tshirts_orig_biges...         0\n",
      "3  /mnt/datadrive/asos_dataset/tshirts_orig_biges...         0\n"
     ]
    }
   ],
   "source": [
    "for group_idx, group in df.groupby(by='item_idx'):\n",
    "    print(group_idx)\n",
    "    print(group)\n",
    "    break"
   ]
  },
  {
   "cell_type": "code",
   "execution_count": 7,
   "metadata": {},
   "outputs": [
    {
     "name": "stdout",
     "output_type": "stream",
     "text": [
      "person_images\n",
      "torch.Size([3, 64, 64])\n",
      "\n",
      "ca_images\n",
      "torch.Size([3, 64, 64])\n",
      "\n",
      "garment_images\n",
      "torch.Size([3, 64, 64])\n",
      "\n",
      "person_poses\n",
      "torch.Size([18, 2])\n",
      "\n",
      "garment_poses\n",
      "torch.Size([18, 2])\n",
      "\n"
     ]
    }
   ],
   "source": [
    "import torch\n",
    "from torch.utils.data import DataLoader, Dataset\n",
    "\n",
    "from PIL import Image\n",
    "from matplotlib import pyplot as plt\n",
    "import numpy as np\n",
    "from collections import defaultdict\n",
    "\n",
    "class SyntheticTryonDataset(Dataset):\n",
    "    def __init__(self, num_samples, image_size=(64,64), pose_size=(18, 2)):\n",
    "        \"\"\"\n",
    "        Args:\n",
    "            num_samples (int): Number of samples in the dataset.\n",
    "            image_size (tuple): The height and width of the images (height, width).\n",
    "            pose_size (tuple): The size of the pose tensors (default: (18, 2)).\n",
    "        \"\"\"\n",
    "        \n",
    "        self.df = pd.read_csv('/home/roman/tryondiffusion_implementation/tryondiffusion_danny/all_imgs.csv')\n",
    "        # self.item_ids = np.unique(self.df['item_idx'].values)\n",
    "        self.items_reverse_index = {}\n",
    "        for group_idx, group in df.groupby(by='item_idx'):\n",
    "            self.items_reverse_index[group_idx] = group['fullpath'].values        \n",
    "         \n",
    "        self.num_samples = num_samples\n",
    "        self.image_size = image_size\n",
    "        self.pose_size = pose_size\n",
    "\n",
    "    def __len__(self):\n",
    "        return self.num_samples\n",
    "\n",
    "    def __getitem__(self, idx):\n",
    "        \n",
    "        record = self.df.iloc[idx]\n",
    "        item_idx = record['item_idx']\n",
    "        \n",
    "        \n",
    "        person_image = \n",
    "        # person_image = torch.randn(3, *self.image_size)\n",
    "        # ca_image = torch.randn(3, *self.image_size)\n",
    "        # garment_image = torch.randn(3, *self.image_size)\n",
    "        # person_pose = torch.randn(*self.pose_size)\n",
    "        # garment_pose = torch.randn(*self.pose_size)\n",
    "\n",
    "        sample = {\n",
    "            \"person_images\": person_image,\n",
    "            \"ca_images\": ca_image,\n",
    "            \"garment_images\": garment_image,\n",
    "            \"person_poses\": person_pose,\n",
    "            \"garment_poses\": garment_pose,\n",
    "        }\n",
    "\n",
    "        return sample\n",
    "\n",
    "\n",
    "def tryondiffusion_collate_fn(batch):\n",
    "    return {\n",
    "        \"person_images\": torch.stack([item[\"person_images\"] for item in batch]),\n",
    "        \"ca_images\": torch.stack([item[\"ca_images\"] for item in batch]),\n",
    "        \"garment_images\": torch.stack([item[\"garment_images\"] for item in batch]),\n",
    "        \"person_poses\": torch.stack([item[\"person_poses\"] for item in batch]),\n",
    "        \"garment_poses\": torch.stack([item[\"garment_poses\"] for item in batch]),\n",
    "    }\n",
    "\n",
    "ds = SyntheticTryonDataset(num_samples=100)\n",
    "for i in ds:\n",
    "    for k,v in i.items():\n",
    "        print(k)\n",
    "        print(v.shape)\n",
    "        print()\n",
    "    break"
   ]
  },
  {
   "cell_type": "code",
   "execution_count": null,
   "metadata": {},
   "outputs": [],
   "source": []
  }
 ],
 "metadata": {
  "kernelspec": {
   "display_name": "venv_tryondiffusion_implementation",
   "language": "python",
   "name": "python3"
  },
  "language_info": {
   "codemirror_mode": {
    "name": "ipython",
    "version": 3
   },
   "file_extension": ".py",
   "mimetype": "text/x-python",
   "name": "python",
   "nbconvert_exporter": "python",
   "pygments_lexer": "ipython3",
   "version": "3.10.12"
  },
  "orig_nbformat": 4
 },
 "nbformat": 4,
 "nbformat_minor": 2
}
