{
 "cells": [
  {
   "cell_type": "code",
   "execution_count": 2,
   "metadata": {},
   "outputs": [],
   "source": [
    "from natten import (\n",
    "  NeighborhoodAttention1D,\n",
    "  NeighborhoodAttention2D,\n",
    "  NeighborhoodAttention3D,\n",
    ")\n",
    "na1d = NeighborhoodAttention1D(dim=128, kernel_size=7, dilation=3, num_heads=4)\n",
    "na2d = NeighborhoodAttention2D(dim=128, kernel_size=7, dilation=3, num_heads=4)\n",
    "na3d = NeighborhoodAttention3D(dim=128, kernel_size=7, dilation=3, num_heads=4)"
   ]
  },
  {
   "cell_type": "code",
   "execution_count": 3,
   "metadata": {},
   "outputs": [
    {
     "data": {
      "text/plain": [
       "'head_dim=32, num_heads=4, kernel_size=7, dilation=3, has_bias=True'"
      ]
     },
     "execution_count": 3,
     "metadata": {},
     "output_type": "execute_result"
    }
   ],
   "source": [
    "na1d.extra_repr()"
   ]
  },
  {
   "cell_type": "code",
   "execution_count": null,
   "metadata": {},
   "outputs": [],
   "source": []
  },
  {
   "cell_type": "code",
   "execution_count": 10,
   "metadata": {},
   "outputs": [
    {
     "data": {
      "text/html": [
       "<div>\n",
       "<style scoped>\n",
       "    .dataframe tbody tr th:only-of-type {\n",
       "        vertical-align: middle;\n",
       "    }\n",
       "\n",
       "    .dataframe tbody tr th {\n",
       "        vertical-align: top;\n",
       "    }\n",
       "\n",
       "    .dataframe thead th {\n",
       "        text-align: right;\n",
       "    }\n",
       "</style>\n",
       "<table border=\"1\" class=\"dataframe\">\n",
       "  <thead>\n",
       "    <tr style=\"text-align: right;\">\n",
       "      <th></th>\n",
       "      <th>fullpath</th>\n",
       "    </tr>\n",
       "  </thead>\n",
       "  <tbody>\n",
       "    <tr>\n",
       "      <th>0</th>\n",
       "      <td>/mnt/datadrive/asos_dataset/tshirts_orig_biges...</td>\n",
       "    </tr>\n",
       "    <tr>\n",
       "      <th>1</th>\n",
       "      <td>/mnt/datadrive/asos_dataset/tshirts_orig_biges...</td>\n",
       "    </tr>\n",
       "    <tr>\n",
       "      <th>2</th>\n",
       "      <td>/mnt/datadrive/asos_dataset/tshirts_orig_biges...</td>\n",
       "    </tr>\n",
       "    <tr>\n",
       "      <th>3</th>\n",
       "      <td>/mnt/datadrive/asos_dataset/tshirts_orig_biges...</td>\n",
       "    </tr>\n",
       "    <tr>\n",
       "      <th>4</th>\n",
       "      <td>/mnt/datadrive/asos_dataset/tshirts_orig_biges...</td>\n",
       "    </tr>\n",
       "  </tbody>\n",
       "</table>\n",
       "</div>"
      ],
      "text/plain": [
       "                                            fullpath\n",
       "0  /mnt/datadrive/asos_dataset/tshirts_orig_biges...\n",
       "1  /mnt/datadrive/asos_dataset/tshirts_orig_biges...\n",
       "2  /mnt/datadrive/asos_dataset/tshirts_orig_biges...\n",
       "3  /mnt/datadrive/asos_dataset/tshirts_orig_biges...\n",
       "4  /mnt/datadrive/asos_dataset/tshirts_orig_biges..."
      ]
     },
     "execution_count": 10,
     "metadata": {},
     "output_type": "execute_result"
    }
   ],
   "source": [
    "from pathlib import Path\n",
    "import pandas as pd\n",
    "\n",
    "datapath = '/mnt/datadrive'\n",
    "x = list(filter(lambda x: x.suffix=='.png', Path(datapath).rglob('*')))\n",
    "df = pd.DataFrame(x, columns=['fullpath'])\n",
    "df.head(5)"
   ]
  },
  {
   "cell_type": "code",
   "execution_count": 15,
   "metadata": {},
   "outputs": [
    {
     "data": {
      "text/plain": [
       "item_idx\n",
       "0      4\n",
       "471    4\n",
       "465    4\n",
       "466    4\n",
       "467    4\n",
       "      ..\n",
       "276    4\n",
       "277    4\n",
       "278    4\n",
       "279    4\n",
       "99     4\n",
       "Name: count, Length: 609, dtype: int64"
      ]
     },
     "execution_count": 15,
     "metadata": {},
     "output_type": "execute_result"
    }
   ],
   "source": [
    "df['item_idx'] = df['fullpath'].apply(lambda x: int(x.parent.stem))\n",
    "df['item_idx'].value_counts()"
   ]
  },
  {
   "cell_type": "code",
   "execution_count": 24,
   "metadata": {},
   "outputs": [],
   "source": [
    "df.to_csv('all_imgs.csv', index=False)"
   ]
  },
  {
   "cell_type": "code",
   "execution_count": 23,
   "metadata": {},
   "outputs": [],
   "source": [
    "from PIL import Image\n",
    "from matplotlib import pyplot as plt\n",
    "\n",
    "# for j in [0, 1, 2, 3, 44, 55, 99]:\n",
    "#     for i in df[df['item_idx']==j]['fullpath'].values:\n",
    "#         print(i)\n",
    "#         img = Image.open(i)\n",
    "#         plt.imshow(img)\n",
    "#         plt.show()    "
   ]
  },
  {
   "cell_type": "code",
   "execution_count": 26,
   "metadata": {},
   "outputs": [
    {
     "name": "stdout",
     "output_type": "stream",
     "text": [
      "0\n",
      "                                            fullpath  item_idx\n",
      "0  /mnt/datadrive/asos_dataset/tshirts_orig_biges...         0\n",
      "1  /mnt/datadrive/asos_dataset/tshirts_orig_biges...         0\n",
      "2  /mnt/datadrive/asos_dataset/tshirts_orig_biges...         0\n",
      "3  /mnt/datadrive/asos_dataset/tshirts_orig_biges...         0\n"
     ]
    }
   ],
   "source": [
    "for group_idx, group in df.groupby(by='item_idx'):\n",
    "    print(group_idx)\n",
    "    print(group)\n",
    "    break"
   ]
  },
  {
   "cell_type": "code",
   "execution_count": 42,
   "metadata": {},
   "outputs": [],
   "source": [
    "# image = Image.open(image_path).convert(\"RGB\") \n",
    "image = Image.open('/mnt/datadrive/asos_dataset/tshirts_orig_bigest/9/2397.png').convert(\"RGB\")\n",
    "res = hp.forward_img(image).squeeze(0)\n",
    "\n",
    "def get_clothing_agnostic(image, hp_mask, classes_to_rm=[4,6]):\n",
    "    bg_color = (255,255,255)\n",
    "    assert image.shape[:-1] == hp_mask.shape\n",
    "    cloths_to_rm_mask = np.zeros(hp_mask.shape)\n",
    "    for i in np.unique(res):\n",
    "        if i in classes_to_rm:\n",
    "            cloths_to_rm_mask[res==i] = 255\n",
    "    image[cloths_to_rm_mask!=0] = bg_color\n",
    "    return image\n"
   ]
  },
  {
   "cell_type": "code",
   "execution_count": 56,
   "metadata": {},
   "outputs": [
    {
     "name": "stdout",
     "output_type": "stream",
     "text": [
      "(2243, 1758)\n"
     ]
    }
   ],
   "source": [
    "import numpy as np\n",
    "# 4 === upper\n",
    "# 6 === lower \n",
    "\n",
    "def get_clothing_agnostic(image, hp_mask, classes_to_rm=[4,6]):\n",
    "    bg_color = (255,255,255)\n",
    "    assert image.shape[:-1] == hp_mask.shape\n",
    "    cloths_to_rm_mask = np.zeros(hp_mask.shape)\n",
    "    for i in np.unique(res):\n",
    "        if i in classes_to_rm:\n",
    "            cloths_to_rm_mask[res==i] = 255\n",
    "    image[cloths_to_rm_mask!=0] = bg_color\n",
    "    return image\n",
    "\n",
    "# xx = np.zeros(res.shape)\n",
    "# for i in np.unique(res):\n",
    "#     if i in [4,6]:\n",
    "#         xx[res==i] = 255\n",
    "# np_image = np.array(image)\n",
    "# np_image[xx!=0] = (255,255,255)\n",
    "# plt.imshow(np_image)\n",
    "# plt.show()\n",
    "print(np_image.shape[:-1])\n",
    "# plt.imshow(xx)\n",
    "# plt.show()"
   ]
  },
  {
   "cell_type": "code",
   "execution_count": 4,
   "metadata": {},
   "outputs": [
    {
     "name": "stdout",
     "output_type": "stream",
     "text": [
      "dict_keys(['person_images', 'ca_images', 'garment_images'])\n"
     ]
    }
   ],
   "source": [
    "\n",
    "import torch\n",
    "from torch.utils.data import DataLoader, Dataset\n",
    "\n",
    "from PIL import Image\n",
    "from matplotlib import pyplot as plt\n",
    "import numpy as np\n",
    "from collections import defaultdict\n",
    "from clothing_segmentation import HumanParser\n",
    "import pandas as pd\n",
    "\n",
    "\n",
    "class SyntheticTryonDataset(Dataset):\n",
    "    def __init__(self, num_samples, image_size=(64,64), pose_size=(18, 2)):\n",
    "        \"\"\"\n",
    "        Args:\n",
    "            num_samples (int): Number of samples in the dataset.\n",
    "            image_size (tuple): The height and width of the images (height, width).\n",
    "            pose_size (tuple): The size of the pose tensors (default: (18, 2)).\n",
    "        \"\"\"\n",
    "        self.human_parser = HumanParser()\n",
    "        \n",
    "        \n",
    "        self.df = pd.read_csv('/home/roman/tryondiffusion_implementation/tryondiffusion_danny/all_imgs.csv')\n",
    "        # self.item_ids = np.unique(self.df['item_idx'].values)\n",
    "        self.items_reverse_index = {}\n",
    "        for group_idx, group in self.df.groupby(by='item_idx'):\n",
    "            self.items_reverse_index[group_idx] = group['fullpath'].values        \n",
    "        \n",
    "        self.num_samples = num_samples\n",
    "        self.image_size = image_size\n",
    "        self.pose_size = pose_size\n",
    "\n",
    "    def __len__(self):\n",
    "        return self.num_samples\n",
    "    \n",
    "    def prepare_clothing_agnostic(self, img, hp_mask)-> np.array: \n",
    "        classes_to_rm=[4,6]      \n",
    "    # def get_clothing_agnostic(image, hp_mask, classes_to_rm=[4,6]):\n",
    "        bg_color = (255,255,255)\n",
    "        assert img.shape[:-1] == hp_mask.shape\n",
    "        # cloths_to_rm_mask = np.zeros(hp_mask.shape)\n",
    "        # for i in np.unique(res):\n",
    "        #     if i in classes_to_rm:\n",
    "        #         cloths_to_rm_mask[res==i] = 255\n",
    "        cloths_to_rm_mask = np.isin(hp_mask, classes_to_rm)\n",
    "        img[cloths_to_rm_mask!=0] = bg_color\n",
    "        return img\n",
    "        \n",
    "    def prepare_pose(self, img):\n",
    "        pass\n",
    "\n",
    "    def prepare_segmented_garment(self, img, hp_mask)-> np.array:\n",
    "        # classes_to_rm=[4,6] \n",
    "        classes_to_rm=[4]        \n",
    "        bg_color = (255,255,255)\n",
    "        assert img.shape[:-1] == hp_mask.shape\n",
    "        # cloths_to_rm_mask = np.zeros(hp_mask.shape)\n",
    "        # for i in np.unique(res):\n",
    "        #     if i in classes_to_rm:\n",
    "        #         cloths_to_rm_mask[res==i] = 255\n",
    "        cloths_to_rm_mask = np.isin(hp_mask, classes_to_rm)\n",
    "        img[cloths_to_rm_mask==0] = bg_color\n",
    "        return img\n",
    "        \n",
    "    def __getitem__(self, idx):\n",
    "        \n",
    "        items_images_list = self.items_reverse_index[idx]\n",
    "        img_person = items_images_list[0]\n",
    "        img_garment = items_images_list[1]\n",
    "        \n",
    "        # inputs from img1\n",
    "        # noisy\n",
    "        # clothing agnostic\n",
    "        # person pose\n",
    "        # img = img.resize((768, 768), Image.BICUBIC)\n",
    "        person_image = Image.open(img_person).convert('RGB').resize((768, 768), Image.BICUBIC)\n",
    "        # print(person_image.size)\n",
    "        # .resize(self.image_size, Image.BICUBIC)\n",
    "        np_person_image = np.array(person_image)\n",
    "        person_image_hp = self.human_parser.forward_img(person_image).squeeze(0)\n",
    "        \n",
    "        ca_image = self.prepare_clothing_agnostic(np_person_image, person_image_hp)\n",
    "        # person_pose = self.prepare_pose(person_image.resize(self.image_size, Image.BICUBIC))\n",
    "        \n",
    "        # inputs from img2\n",
    "        # garment pose\n",
    "        # segmented garmend\n",
    "        garment_image = Image.open(img_garment).convert('RGB').resize((768, 768), Image.BICUBIC)\n",
    "        # print(garment_image.size)\n",
    "        # .resize(self.image_size, Image.BICUBIC)\n",
    "        np_garment_image = np.array(garment_image)\n",
    "        garment_image_hp = self.human_parser.forward_img(garment_image).squeeze(0)\n",
    "        \n",
    "        segmented_garment = self.prepare_segmented_garment(np_garment_image, garment_image_hp) \n",
    "        # garment_pose = self.prepare_pose(garment_image.resize(self.image_size, Image.BICUBIC))\n",
    "        \n",
    "        # person_image = torch.randn(3, *self.image_size)\n",
    "        # ca_image = torch.randn(3, *self.image_size)\n",
    "        # garment_image = torch.randn(3, *self.image_size)\n",
    "        # person_pose = torch.randn(*self.pose_size)\n",
    "        # garment_pose = torch.randn(*self.pose_size)\n",
    "\n",
    "        # sample = {\n",
    "        #     \"person_images\": person_image,\n",
    "        #     \"ca_images\": ca_image,\n",
    "        #     \"garment_images\": garment_image,\n",
    "        #     \"person_poses\": person_pose,\n",
    "        #     \"garment_poses\": garment_pose,\n",
    "        # }\n",
    "\n",
    "        # TODO transforms PIL Images to Tensors, Normalization\n",
    "        sample = {\n",
    "            \"person_images\": person_image.resize(self.image_size, Image.BICUBIC),\n",
    "            \"ca_images\": Image.fromarray(ca_image.astype('uint8')).resize(self.image_size, Image.BICUBIC),\n",
    "            \"garment_images\": Image.fromarray(segmented_garment.astype('uint8')).resize(self.image_size, Image.BICUBIC),\n",
    "            # \"person_poses\": person_pose,\n",
    "            # \"garment_poses\": garment_pose,\n",
    "        }\n",
    "        \n",
    "        return sample\n",
    "\n",
    "\n",
    "def tryondiffusion_collate_fn(batch):\n",
    "    return {\n",
    "        \"person_images\": torch.stack([item[\"person_images\"] for item in batch]),\n",
    "        \"ca_images\": torch.stack([item[\"ca_images\"] for item in batch]),\n",
    "        \"garment_images\": torch.stack([item[\"garment_images\"] for item in batch]),\n",
    "        \"person_poses\": torch.stack([item[\"person_poses\"] for item in batch]),\n",
    "        \"garment_poses\": torch.stack([item[\"garment_poses\"] for item in batch]),\n",
    "    }\n",
    "\n",
    "ds = SyntheticTryonDataset(num_samples=100)\n",
    "for i in ds:\n",
    "    print(i.keys())\n",
    "    break"
   ]
  },
  {
   "cell_type": "code",
   "execution_count": 5,
   "metadata": {},
   "outputs": [
    {
     "data": {
      "text/plain": [
       "<matplotlib.image.AxesImage at 0x777570564070>"
      ]
     },
     "execution_count": 5,
     "metadata": {},
     "output_type": "execute_result"
    },
    {
     "data": {
      "image/png": "[encoded data removed]",
      "text/plain": [
       "<Figure size 640x480 with 1 Axes>"
      ]
     },
     "metadata": {},
     "output_type": "display_data"
    }
   ],
   "source": [
    "plt.imshow(i['person_images'])"
   ]
  },
  {
   "cell_type": "code",
   "execution_count": 6,
   "metadata": {},
   "outputs": [
    {
     "data": {
      "text/plain": [
       "<matplotlib.image.AxesImage at 0x77757072a860>"
      ]
     },
     "execution_count": 6,
     "metadata": {},
     "output_type": "execute_result"
    },
    {
     "data": {
      "image/png": "[encoded data removed]",
      "text/plain": [
       "<Figure size 640x480 with 1 Axes>"
      ]
     },
     "metadata": {},
     "output_type": "display_data"
    }
   ],
   "source": [
    "plt.imshow(i['ca_images'])"
   ]
  },
  {
   "cell_type": "code",
   "execution_count": 7,
   "metadata": {},
   "outputs": [
    {
     "data": {
      "text/plain": [
       "<matplotlib.image.AxesImage at 0x77755fa26080>"
      ]
     },
     "execution_count": 7,
     "metadata": {},
     "output_type": "execute_result"
    },
    {
     "data": {
      "image/png": "[encoded data removed]",
      "text/plain": [
       "<Figure size 640x480 with 1 Axes>"
      ]
     },
     "metadata": {},
     "output_type": "display_data"
    }
   ],
   "source": [
    "plt.imshow(i['garment_images'])"
   ]
  }
 ],
 "metadata": {
  "kernelspec": {
   "display_name": "venv_tryondiffusion_implementation",
   "language": "python",
   "name": "python3"
  },
  "language_info": {
   "codemirror_mode": {
    "name": "ipython",
    "version": 3
   },
   "file_extension": ".py",
   "mimetype": "text/x-python",
   "name": "python",
   "nbconvert_exporter": "python",
   "pygments_lexer": "ipython3",
   "version": "3.10.12"
  },
  "orig_nbformat": 4
 },
 "nbformat": 4,
 "nbformat_minor": 2
}
