{
 "cells": [
  {
   "cell_type": "code",
   "execution_count": 2,
   "metadata": {},
   "outputs": [],
   "source": [
    "from natten import (\n",
    "  NeighborhoodAttention1D,\n",
    "  NeighborhoodAttention2D,\n",
    "  NeighborhoodAttention3D,\n",
    ")\n",
    "na1d = NeighborhoodAttention1D(dim=128, kernel_size=7, dilation=3, num_heads=4)\n",
    "na2d = NeighborhoodAttention2D(dim=128, kernel_size=7, dilation=3, num_heads=4)\n",
    "na3d = NeighborhoodAttention3D(dim=128, kernel_size=7, dilation=3, num_heads=4)"
   ]
  },
  {
   "cell_type": "code",
   "execution_count": 3,
   "metadata": {},
   "outputs": [
    {
     "data": {
      "text/plain": [
       "'head_dim=32, num_heads=4, kernel_size=7, dilation=3, has_bias=True'"
      ]
     },
     "execution_count": 3,
     "metadata": {},
     "output_type": "execute_result"
    }
   ],
   "source": [
    "na1d.extra_repr()"
   ]
  },
  {
   "cell_type": "code",
   "execution_count": null,
   "metadata": {},
   "outputs": [],
   "source": []
  },
  {
   "cell_type": "code",
   "execution_count": 10,
   "metadata": {},
   "outputs": [
    {
     "data": {
      "text/html": [
       "<div>\n",
       "<style scoped>\n",
       "    .dataframe tbody tr th:only-of-type {\n",
       "        vertical-align: middle;\n",
       "    }\n",
       "\n",
       "    .dataframe tbody tr th {\n",
       "        vertical-align: top;\n",
       "    }\n",
       "\n",
       "    .dataframe thead th {\n",
       "        text-align: right;\n",
       "    }\n",
       "</style>\n",
       "<table border=\"1\" class=\"dataframe\">\n",
       "  <thead>\n",
       "    <tr style=\"text-align: right;\">\n",
       "      <th></th>\n",
       "      <th>fullpath</th>\n",
       "    </tr>\n",
       "  </thead>\n",
       "  <tbody>\n",
       "    <tr>\n",
       "      <th>0</th>\n",
       "      <td>/mnt/datadrive/asos_dataset/tshirts_orig_biges...</td>\n",
       "    </tr>\n",
       "    <tr>\n",
       "      <th>1</th>\n",
       "      <td>/mnt/datadrive/asos_dataset/tshirts_orig_biges...</td>\n",
       "    </tr>\n",
       "    <tr>\n",
       "      <th>2</th>\n",
       "      <td>/mnt/datadrive/asos_dataset/tshirts_orig_biges...</td>\n",
       "    </tr>\n",
       "    <tr>\n",
       "      <th>3</th>\n",
       "      <td>/mnt/datadrive/asos_dataset/tshirts_orig_biges...</td>\n",
       "    </tr>\n",
       "    <tr>\n",
       "      <th>4</th>\n",
       "      <td>/mnt/datadrive/asos_dataset/tshirts_orig_biges...</td>\n",
       "    </tr>\n",
       "  </tbody>\n",
       "</table>\n",
       "</div>"
      ],
      "text/plain": [
       "                                            fullpath\n",
       "0  /mnt/datadrive/asos_dataset/tshirts_orig_biges...\n",
       "1  /mnt/datadrive/asos_dataset/tshirts_orig_biges...\n",
       "2  /mnt/datadrive/asos_dataset/tshirts_orig_biges...\n",
       "3  /mnt/datadrive/asos_dataset/tshirts_orig_biges...\n",
       "4  /mnt/datadrive/asos_dataset/tshirts_orig_biges..."
      ]
     },
     "execution_count": 10,
     "metadata": {},
     "output_type": "execute_result"
    }
   ],
   "source": [
    "from pathlib import Path\n",
    "import pandas as pd\n",
    "\n",
    "datapath = '/mnt/datadrive'\n",
    "x = list(filter(lambda x: x.suffix=='.png', Path(datapath).rglob('*')))\n",
    "df = pd.DataFrame(x, columns=['fullpath'])\n",
    "df.head(5)"
   ]
  },
  {
   "cell_type": "code",
   "execution_count": 15,
   "metadata": {},
   "outputs": [
    {
     "data": {
      "text/plain": [
       "item_idx\n",
       "0      4\n",
       "471    4\n",
       "465    4\n",
       "466    4\n",
       "467    4\n",
       "      ..\n",
       "276    4\n",
       "277    4\n",
       "278    4\n",
       "279    4\n",
       "99     4\n",
       "Name: count, Length: 609, dtype: int64"
      ]
     },
     "execution_count": 15,
     "metadata": {},
     "output_type": "execute_result"
    }
   ],
   "source": [
    "df['item_idx'] = df['fullpath'].apply(lambda x: int(x.parent.stem))\n",
    "df['item_idx'].value_counts()"
   ]
  },
  {
   "cell_type": "code",
   "execution_count": 24,
   "metadata": {},
   "outputs": [],
   "source": [
    "df.to_csv('all_imgs.csv', index=False)"
   ]
  },
  {
   "cell_type": "code",
   "execution_count": 23,
   "metadata": {},
   "outputs": [],
   "source": [
    "from PIL import Image\n",
    "from matplotlib import pyplot as plt\n",
    "\n",
    "# for j in [0, 1, 2, 3, 44, 55, 99]:\n",
    "#     for i in df[df['item_idx']==j]['fullpath'].values:\n",
    "#         print(i)\n",
    "#         img = Image.open(i)\n",
    "#         plt.imshow(img)\n",
    "#         plt.show()    "
   ]
  },
  {
   "cell_type": "code",
   "execution_count": 26,
   "metadata": {},
   "outputs": [
    {
     "name": "stdout",
     "output_type": "stream",
     "text": [
      "0\n",
      "                                            fullpath  item_idx\n",
      "0  /mnt/datadrive/asos_dataset/tshirts_orig_biges...         0\n",
      "1  /mnt/datadrive/asos_dataset/tshirts_orig_biges...         0\n",
      "2  /mnt/datadrive/asos_dataset/tshirts_orig_biges...         0\n",
      "3  /mnt/datadrive/asos_dataset/tshirts_orig_biges...         0\n"
     ]
    }
   ],
   "source": [
    "for group_idx, group in df.groupby(by='item_idx'):\n",
    "    print(group_idx)\n",
    "    print(group)\n",
    "    break"
   ]
  },
  {
   "cell_type": "code",
   "execution_count": 42,
   "metadata": {},
   "outputs": [],
   "source": [
    "# image = Image.open(image_path).convert(\"RGB\") \n",
    "image = Image.open('/mnt/datadrive/asos_dataset/tshirts_orig_bigest/9/2397.png').convert(\"RGB\")\n",
    "res = hp.forward_img(image).squeeze(0)\n",
    "\n",
    "def get_clothing_agnostic(image, hp_mask, classes_to_rm=[4,6]):\n",
    "    bg_color = (255,255,255)\n",
    "    assert image.shape[:-1] == hp_mask.shape\n",
    "    cloths_to_rm_mask = np.zeros(hp_mask.shape)\n",
    "    for i in np.unique(res):\n",
    "        if i in classes_to_rm:\n",
    "            cloths_to_rm_mask[res==i] = 255\n",
    "    image[cloths_to_rm_mask!=0] = bg_color\n",
    "    return image\n"
   ]
  },
  {
   "cell_type": "code",
   "execution_count": 56,
   "metadata": {},
   "outputs": [
    {
     "name": "stdout",
     "output_type": "stream",
     "text": [
      "(2243, 1758)\n"
     ]
    }
   ],
   "source": [
    "import numpy as np\n",
    "# 4 === upper\n",
    "# 6 === lower \n",
    "\n",
    "def get_clothing_agnostic(image, hp_mask, classes_to_rm=[4,6]):\n",
    "    bg_color = (255,255,255)\n",
    "    assert image.shape[:-1] == hp_mask.shape\n",
    "    cloths_to_rm_mask = np.zeros(hp_mask.shape)\n",
    "    for i in np.unique(res):\n",
    "        if i in classes_to_rm:\n",
    "            cloths_to_rm_mask[res==i] = 255\n",
    "    image[cloths_to_rm_mask!=0] = bg_color\n",
    "    return image\n",
    "\n",
    "# xx = np.zeros(res.shape)\n",
    "# for i in np.unique(res):\n",
    "#     if i in [4,6]:\n",
    "#         xx[res==i] = 255\n",
    "# np_image = np.array(image)\n",
    "# np_image[xx!=0] = (255,255,255)\n",
    "# plt.imshow(np_image)\n",
    "# plt.show()\n",
    "print(np_image.shape[:-1])\n",
    "# plt.imshow(xx)\n",
    "# plt.show()"
   ]
  },
  {
   "cell_type": "code",
   "execution_count": null,
   "metadata": {},
   "outputs": [],
   "source": []
  },
  {
   "cell_type": "code",
   "execution_count": 80,
   "metadata": {},
   "outputs": [
    {
     "name": "stdout",
     "output_type": "stream",
     "text": [
      "dict_keys(['person_images', 'ca_images', 'garment_images', 'person_poses', 'garment_poses'])\n"
     ]
    },
    {
     "data": {
      "image/png": "[encoded data removed]",
      "text/plain": [
       "<Figure size 640x480 with 1 Axes>"
      ]
     },
     "metadata": {},
     "output_type": "display_data"
    }
   ],
   "source": [
    "import torch\n",
    "from torch.utils.data import DataLoader, Dataset\n",
    "\n",
    "from PIL import Image\n",
    "import numpy as np\n",
    "from clothing_segmentation import HumanParser\n",
    "import pandas as pd\n",
    "\n",
    "from torchvision import transforms as T\n",
    "from matplotlib import pyplot as plt\n",
    "\n",
    "\n",
    "# class SyntheticTryonDataset(Dataset):\n",
    "    def __init__(self, image_size=(64,64), pose_size=(18, 2), apply_transform=True):\n",
    "\n",
    "        self.human_parser = HumanParser()\n",
    "        self.transform = T.Compose([\n",
    "            # T.Resize(image_size),\n",
    "            # T.CenterCrop(image_size),\n",
    "            T.ToTensor(),\n",
    "        ])\n",
    "        self.apply_transform = apply_transform\n",
    "        self.df = pd.read_csv('/home/roman/tryondiffusion_implementation/tryondiffusion_danny/all_imgs.csv')\n",
    "        self.df = self.df[self.df['pose_detected']]\n",
    "        \n",
    "        self.items_reverse_index = {}\n",
    "        for group_idx, group in self.df.groupby(by='item_idx'):\n",
    "            self.items_reverse_index[group_idx] = group['fullpath'].values        \n",
    "        \n",
    "        self.image_size = image_size\n",
    "        # self.pose_size = pose_size\n",
    "        self.openpose = MyOpenPoseDetector.from_pretrained(\"lllyasviel/ControlNet\")\n",
    "\n",
    "    def __len__(self):\n",
    "        return len(self.items_reverse_index)\n",
    "    \n",
    "    def prepare_clothing_agnostic(self, img, hp_mask)-> np.array: \n",
    "        # classes_to_rm=[4,6] \n",
    "        classes_to_rm=[4]      \n",
    "        # def get_clothing_agnostic(image, hp_mask, classes_to_rm=[4,6]):\n",
    "        bg_color = (255,255,255)\n",
    "        assert img.shape[:-1] == hp_mask.shape\n",
    "        # cloths_to_rm_mask = np.zeros(hp_mask.shape)\n",
    "        # for i in np.unique(res):\n",
    "        #     if i in classes_to_rm:\n",
    "        #         cloths_to_rm_mask[res==i] = 255\n",
    "        cloths_to_rm_mask = np.isin(hp_mask, classes_to_rm)\n",
    "        img[cloths_to_rm_mask!=0] = bg_color\n",
    "        return img\n",
    "        \n",
    "    def prepare_pose(self, img):\n",
    "        # pass\n",
    "        pose = self.openpose(img, detect_resolution=self.image_size[0])\n",
    "        return pose\n",
    "\n",
    "    def prepare_segmented_garment(self, img, hp_mask)-> np.array:\n",
    "        # classes_to_rm=[4,6] \n",
    "        classes_to_rm=[4]        \n",
    "        bg_color = (255,255,255)\n",
    "        assert img.shape[:-1] == hp_mask.shape\n",
    "        # cloths_to_rm_mask = np.zeros(hp_mask.shape)\n",
    "        # for i in np.unique(res):\n",
    "        #     if i in classes_to_rm:\n",
    "        #         cloths_to_rm_mask[res==i] = 255\n",
    "        cloths_to_rm_mask = np.isin(hp_mask, classes_to_rm)\n",
    "        img[cloths_to_rm_mask==0] = bg_color\n",
    "        return img\n",
    "\n",
    "    def __getitem__(self, idx):\n",
    "        \n",
    "        if idx in self.items_reverse_index:\n",
    "            items_images_list = self.items_reverse_index[idx]\n",
    "        else:\n",
    "            items_images_list = self.items_reverse_index[idx-1]\n",
    "        img_person = items_images_list[0]\n",
    "        img_garment = items_images_list[1]\n",
    "        \n",
    "        # inputs from img1\n",
    "        # noisy\n",
    "        # clothing agnostic\n",
    "        # person pose\n",
    "        # img = img.resize((768, 768), Image.BICUBIC)\n",
    "        person_image = Image.open(img_person).convert('RGB').resize((768, 768), Image.BICUBIC)\n",
    "        # print(person_image.size)\n",
    "        # .resize(self.image_size, Image.BICUBIC)\n",
    "        np_person_image = np.array(person_image)\n",
    "        person_image_resized = person_image.resize(self.image_size, Image.BICUBIC)\n",
    "        person_image_hp = self.human_parser.forward_img(person_image).squeeze(0)\n",
    "        \n",
    "        ca_image = self.prepare_clothing_agnostic(np_person_image, person_image_hp)\n",
    "        person_pose = self.prepare_pose(person_image_resized)\n",
    "        \n",
    "        # inputs from img2\n",
    "        # garment pose\n",
    "        # segmented garmend\n",
    "        garment_image = Image.open(img_garment).convert('RGB').resize((768, 768), Image.BICUBIC)\n",
    "        # print(garment_image.size)\n",
    "        # .resize(self.image_size, Image.BICUBIC)\n",
    "        np_garment_image = np.array(garment_image)\n",
    "        garment_image_hp = self.human_parser.forward_img(garment_image).squeeze(0)\n",
    "        \n",
    "        segmented_garment = self.prepare_segmented_garment(np_garment_image, garment_image_hp) \n",
    "        garment_pose = self.prepare_pose(garment_image.resize(self.image_size, Image.BICUBIC))\n",
    "        \n",
    "        # person_image = torch.randn(3, *self.image_size)\n",
    "        # ca_image = torch.randn(3, *self.image_size)\n",
    "        # garment_image = torch.randn(3, *self.image_size)\n",
    "        # person_pose = torch.randn(*self.pose_size)\n",
    "        # garment_pose = torch.randn(*self.pose_size)\n",
    "\n",
    "        # sample = {\n",
    "        #     \"person_images\": person_image,\n",
    "        #     \"ca_images\": ca_image,\n",
    "        #     \"garment_images\": garment_image,\n",
    "        #     \"person_poses\": person_pose,\n",
    "        #     \"garment_poses\": garment_pose,\n",
    "        # }\n",
    "\n",
    "        sample = {\n",
    "            \"person_images\": person_image_resized,\n",
    "            \"ca_images\": Image.fromarray(ca_image.astype('uint8')).resize(self.image_size, Image.BICUBIC),\n",
    "            \"garment_images\": Image.fromarray(segmented_garment.astype('uint8')).resize(self.image_size, Image.BICUBIC),\n",
    "            \"person_poses\": person_pose,\n",
    "            \"garment_poses\": garment_pose,\n",
    "        }\n",
    "        \n",
    "        # if self.apply_transform:\n",
    "        #     sample = {\n",
    "        #         \"person_images\": self.transform(sample['person_images']),\n",
    "        #         \"ca_images\": self.transform(sample['ca_images']),\n",
    "        #         \"garment_images\": self.transform(sample['garment_images']),\n",
    "        #         \"person_poses\": sample['person_poses'],\n",
    "        #         \"garment_poses\": sample['garment_poses']\n",
    "        #     }\n",
    "        \n",
    "        return sample\n",
    "    \n",
    "\n",
    "\n",
    "def tryondiffusion_collate_fn(batch):\n",
    "    return {\n",
    "        \"person_images\": torch.stack([item[\"person_images\"] for item in batch]),\n",
    "        \"ca_images\": torch.stack([item[\"ca_images\"] for item in batch]),\n",
    "        \"garment_images\": torch.stack([item[\"garment_images\"] for item in batch]),\n",
    "        \"person_poses\": torch.stack([item[\"person_poses\"] for item in batch]),\n",
    "        \"garment_poses\": torch.stack([item[\"garment_poses\"] for item in batch]),\n",
    "    }\n",
    "\n",
    "ds = SyntheticTryonDataset()\n",
    "for i in ds:\n",
    "    print(i.keys())\n",
    "    plt.imshow(i['ca_images'])\n",
    "    plt.show()\n",
    "    break\n",
    "\n",
    "# train_dataloader = DataLoader(\n",
    "#     ds,\n",
    "#     batch_size=2,\n",
    "#     shuffle=True,\n",
    "#     collate_fn=tryondiffusion_collate_fn,\n",
    "# )\n",
    "\n",
    "# for i in train_dataloader:\n",
    "#     for k,v in i.items():\n",
    "#         print(k,v.shape)\n",
    "#     break"
   ]
  },
  {
   "cell_type": "code",
   "execution_count": 27,
   "metadata": {},
   "outputs": [
    {
     "data": {
      "text/plain": [
       "609"
      ]
     },
     "execution_count": 27,
     "metadata": {},
     "output_type": "execute_result"
    }
   ],
   "source": [
    "len(ds.items_reverse_index)"
   ]
  },
  {
   "cell_type": "code",
   "execution_count": 11,
   "metadata": {},
   "outputs": [
    {
     "data": {
      "text/html": [
       "<div>\n",
       "<style scoped>\n",
       "    .dataframe tbody tr th:only-of-type {\n",
       "        vertical-align: middle;\n",
       "    }\n",
       "\n",
       "    .dataframe tbody tr th {\n",
       "        vertical-align: top;\n",
       "    }\n",
       "\n",
       "    .dataframe thead th {\n",
       "        text-align: right;\n",
       "    }\n",
       "</style>\n",
       "<table border=\"1\" class=\"dataframe\">\n",
       "  <thead>\n",
       "    <tr style=\"text-align: right;\">\n",
       "      <th></th>\n",
       "      <th>fullpath</th>\n",
       "      <th>item_idx</th>\n",
       "      <th>pose_detected</th>\n",
       "    </tr>\n",
       "  </thead>\n",
       "  <tbody>\n",
       "    <tr>\n",
       "      <th>0</th>\n",
       "      <td>/mnt/datadrive/asos_dataset/tshirts_orig_biges...</td>\n",
       "      <td>0</td>\n",
       "      <td>True</td>\n",
       "    </tr>\n",
       "    <tr>\n",
       "      <th>1</th>\n",
       "      <td>/mnt/datadrive/asos_dataset/tshirts_orig_biges...</td>\n",
       "      <td>0</td>\n",
       "      <td>True</td>\n",
       "    </tr>\n",
       "  </tbody>\n",
       "</table>\n",
       "</div>"
      ],
      "text/plain": [
       "                                            fullpath  item_idx  pose_detected\n",
       "0  /mnt/datadrive/asos_dataset/tshirts_orig_biges...         0           True\n",
       "1  /mnt/datadrive/asos_dataset/tshirts_orig_biges...         0           True"
      ]
     },
     "execution_count": 11,
     "metadata": {},
     "output_type": "execute_result"
    }
   ],
   "source": [
    "import pandas as pd\n",
    "df = pd.read_csv('/home/roman/tryondiffusion_implementation/tryondiffusion_danny/all_imgs.csv')\n",
    "df.head(2)"
   ]
  },
  {
   "cell_type": "code",
   "execution_count": null,
   "metadata": {},
   "outputs": [],
   "source": []
  },
  {
   "cell_type": "code",
   "execution_count": null,
   "metadata": {},
   "outputs": [],
   "source": []
  },
  {
   "cell_type": "code",
   "execution_count": null,
   "metadata": {},
   "outputs": [],
   "source": []
  },
  {
   "cell_type": "code",
   "execution_count": null,
   "metadata": {},
   "outputs": [],
   "source": []
  },
  {
   "cell_type": "code",
   "execution_count": 6,
   "metadata": {},
   "outputs": [
    {
     "name": "stderr",
     "output_type": "stream",
     "text": [
      " 86%|████████▌ | 17104/20000 [3:06:22<30:56,  1.56it/s]  "
     ]
    }
   ],
   "source": [
    "import torch\n",
    "import numpy as np\n",
    "from controlnet_aux import OpenposeDetector\n",
    "from controlnet_aux.open_pose import HWC3, resize_image\n",
    "from diffusers.utils import load_image\n",
    "import pandas as pd\n",
    "\n",
    "df = pd.read_csv('/home/roman/parse_zara/df_clean_clean_80756.csv')\n",
    "\n",
    "class MyOpenPoseDetector(OpenposeDetector):\n",
    "    \n",
    "    def __call__(self, input_image, detect_resolution=512, include_hand=False, include_face=False):\n",
    "       \n",
    "        if not isinstance(input_image, np.ndarray):\n",
    "            input_image = np.array(input_image, dtype=np.uint8)\n",
    "\n",
    "        input_image = HWC3(input_image)\n",
    "        input_image = resize_image(input_image, detect_resolution)\n",
    "\n",
    "        poses = self.detect_poses(input_image, include_hand, include_face)\n",
    "        xy=[]\n",
    "        if len(poses)>0:\n",
    "            for point in poses[0].body.keypoints:\n",
    "                if point is not None:\n",
    "                    xy.append([point.x, point.y])\n",
    "                else:\n",
    "                    xy.append([0, 0])\n",
    "            return np.array(xy)\n",
    "        else:\n",
    "            return None\n",
    "\n",
    "\n",
    "from tqdm import tqdm\n",
    "# Compute openpose conditioning image.\n",
    "openpose = MyOpenPoseDetector.from_pretrained(\"lllyasviel/ControlNet\")\n",
    "import pickle\n",
    "poses = []\n",
    "\n",
    "left = 30000\n",
    "right = 50000\n",
    "\n",
    "for idx, i in enumerate(tqdm(df['fullpath'].values[left:right], total=len(df.iloc[left:right]))):\n",
    "    try:\n",
    "        image = load_image(i)\n",
    "        pose = openpose(image)\n",
    "    except Exception as e:\n",
    "        pose = None\n",
    "\n",
    "    if pose is None:\n",
    "        poses.append(pose)\n",
    "    else:\n",
    "        poses.append(pickle.dumps(pose))\n",
    "\n",
    "sliced = df.iloc[left:right]\n",
    "sliced['pose_512'] = poses\n",
    "sliced['pose_is_none'] = sliced['pose_512'].apply(lambda x: x is None)\n",
    "sliced.to_csv(f'/home/roman/tryondiffusion_implementation/tryondiffusion_danny/all_imgs_clean_80756_{left}-{right}.csv', index=False)\n",
    "\n",
    "# zzz = df['fullpath'].values[2]\n",
    "# image = load_image(zzz)\n",
    "# pose = openpose(image)\n",
    "# print(pose)"
   ]
  },
  {
   "cell_type": "code",
   "execution_count": 3,
   "metadata": {},
   "outputs": [
    {
     "name": "stderr",
     "output_type": "stream",
     "text": [
      "/tmp/ipykernel_2095431/3637896508.py:2: SettingWithCopyWarning: \n",
      "A value is trying to be set on a copy of a slice from a DataFrame.\n",
      "Try using .loc[row_indexer,col_indexer] = value instead\n",
      "\n",
      "See the caveats in the documentation: https://pandas.pydata.org/pandas-docs/stable/user_guide/indexing.html#returning-a-view-versus-a-copy\n",
      "  gig['pose_512'] = poses\n",
      "/tmp/ipykernel_2095431/3637896508.py:3: SettingWithCopyWarning: \n",
      "A value is trying to be set on a copy of a slice from a DataFrame.\n",
      "Try using .loc[row_indexer,col_indexer] = value instead\n",
      "\n",
      "See the caveats in the documentation: https://pandas.pydata.org/pandas-docs/stable/user_guide/indexing.html#returning-a-view-versus-a-copy\n",
      "  gig['pose_is_none'] = gig['pose_512'].apply(lambda x: x is None)\n"
     ]
    }
   ],
   "source": [
    "gig = df.iloc[:5725]\n",
    "gig['pose_512'] = poses\n",
    "gig['pose_is_none'] = gig['pose_512'].apply(lambda x: x is None)\n",
    "gig.to_csv('/home/roman/tryondiffusion_implementation/tryondiffusion_danny/all_imgs_clean_80756_5725.csv', index=False)\n"
   ]
  },
  {
   "cell_type": "code",
   "execution_count": 37,
   "metadata": {},
   "outputs": [
    {
     "name": "stdout",
     "output_type": "stream",
     "text": [
      "[[1 2 3]\n",
      " [4 5 6]]\n",
      "[1. 2. 3. 4. 5. 6.]\n"
     ]
    }
   ],
   "source": [
    "array = np.array([[1, 2, 3], [4, 5, 6]])\n",
    "s = np.array2string(array)\n",
    "print(s)\n",
    "reconstructed_array = np.fromstring(s.replace('[','').replace(']','').replace('\\n',''), sep=' ')\n",
    "print(reconstructed_array)"
   ]
  },
  {
   "cell_type": "code",
   "execution_count": 30,
   "metadata": {},
   "outputs": [
    {
     "name": "stdout",
     "output_type": "stream",
     "text": [
      "b'\\x80\\x04\\x95\\xa8\\x00\\x00\\x00\\x00\\x00\\x00\\x00\\x8c\\x15numpy.core.multiarray\\x94\\x8c\\x0c_reconstruct\\x94\\x93\\x94\\x8c\\x05numpy\\x94\\x8c\\x07ndarray\\x94\\x93\\x94K\\x00\\x85\\x94C\\x01b\\x94\\x87\\x94R\\x94(K\\x01K\\x04\\x85\\x94h\\x03\\x8c\\x05dtype\\x94\\x93\\x94\\x8c\\x02f8\\x94\\x89\\x88\\x87\\x94R\\x94(K\\x03\\x8c\\x01<\\x94NNNJ\\xff\\xff\\xff\\xffJ\\xff\\xff\\xff\\xffK\\x00t\\x94b\\x89C \\x00\\x00\\x00\\x00\\x00\\x00\\xf0?\\x00\\x00\\x00\\x00\\x00\\x00\\xf0?\\x00\\x00\\x00\\x00\\x00\\x00\\xf0?\\x00\\x00\\x00\\x00\\x00\\x00\\xf0?\\x94t\\x94b.'\n"
     ]
    },
    {
     "data": {
      "text/plain": [
       "array([1., 1., 1., 1.])"
      ]
     },
     "execution_count": 30,
     "metadata": {},
     "output_type": "execute_result"
    }
   ],
   "source": [
    "import pickle\n",
    "import numpy as np\n",
    "\n",
    "a = np.ones(4)\n",
    "# string = pickle.dumps(a)\n",
    "print(string)\n",
    "pickle.loads(string)"
   ]
  },
  {
   "cell_type": "code",
   "execution_count": 19,
   "metadata": {},
   "outputs": [
    {
     "data": {
      "text/plain": [
       "0       [[0.505859375, 0.146875], [0.462890625, 0.2359...\n",
       "1       [[0.54296875, 0.2234375], [0.55859375, 0.36406...\n",
       "2                                                    None\n",
       "3       [[0.328125, 0.2171875], [0.529296875, 0.285937...\n",
       "4       [[0.703125, 0.1359375], [0.544921875, 0.314062...\n",
       "                              ...                        \n",
       "2431    [[0.47265625, 0.125], [0.525390625, 0.2203125]...\n",
       "2432    [[0.380859375, 0.0], [0.234375, 0.3421875], [0...\n",
       "2433    [[0.494140625, 0.0], [0.52734375, 0.1890625], ...\n",
       "2434    [[0.0, 0.0], [0.56640625, 0.1609375], [0.80468...\n",
       "2435    [[0.494140625, 0.0], [0.505859375, 0.1015625],...\n",
       "Name: pose_512, Length: 2436, dtype: object"
      ]
     },
     "execution_count": 19,
     "metadata": {},
     "output_type": "execute_result"
    }
   ],
   "source": [
    "df['pose_512']"
   ]
  },
  {
   "cell_type": "code",
   "execution_count": 24,
   "metadata": {},
   "outputs": [],
   "source": [
    "df['pose_is_none'] = df['pose_512'].apply(lambda x: x is None)"
   ]
  },
  {
   "cell_type": "code",
   "execution_count": 2,
   "metadata": {},
   "outputs": [],
   "source": [
    "import pandas as pd\n",
    "df = pd.read_csv('/home/roman/tryondiffusion_implementation/tryondiffusion_danny/all_imgs.csv')"
   ]
  },
  {
   "cell_type": "code",
   "execution_count": 3,
   "metadata": {},
   "outputs": [],
   "source": [
    "xxx = df[df['pose_is_none']]"
   ]
  },
  {
   "cell_type": "code",
   "execution_count": 12,
   "metadata": {},
   "outputs": [],
   "source": [
    "from matplotlib import pyplot as plt\n",
    "\n",
    "# print(len(xxx))\n",
    "# for idx, (ridx, row) in enumerate(xxx.iterrows()):\n",
    "#     if idx > 100:\n",
    "#         print(row['fullpath'])\n",
    "#         img = load_image(row['fullpath'])\n",
    "#         plt.imshow(img)\n",
    "#         plt.show()\n",
    "#     if idx > 150:\n",
    "#         break"
   ]
  },
  {
   "cell_type": "code",
   "execution_count": 20,
   "metadata": {},
   "outputs": [
    {
     "ename": "TypeError",
     "evalue": "a bytes-like object is required, not 'str'",
     "output_type": "error",
     "traceback": [
      "\u001b[0;31m---------------------------------------------------------------------------\u001b[0m",
      "\u001b[0;31mTypeError\u001b[0m                                 Traceback (most recent call last)",
      "\u001b[1;32m/home/roman/tryondiffusion_implementation/tryondiffusion_danny/nb.ipynb Cell 26\u001b[0m line \u001b[0;36m1\n\u001b[0;32m----> <a href='vscode-notebook-cell://ssh-remote%2Btryon/home/roman/tryondiffusion_implementation/tryondiffusion_danny/nb.ipynb#X33sdnNjb2RlLXJlbW90ZQ%3D%3D?line=0'>1</a>\u001b[0m np\u001b[39m.\u001b[39;49mfrombuffer(df\u001b[39m.\u001b[39;49miloc[\u001b[39m0\u001b[39;49m][\u001b[39m'\u001b[39;49m\u001b[39mpose_512\u001b[39;49m\u001b[39m'\u001b[39;49m])\n",
      "\u001b[0;31mTypeError\u001b[0m: a bytes-like object is required, not 'str'"
     ]
    }
   ],
   "source": [
    "np.(df.iloc[0]['pose_512'])"
   ]
  },
  {
   "cell_type": "code",
   "execution_count": 28,
   "metadata": {},
   "outputs": [
    {
     "ename": "SyntaxError",
     "evalue": "invalid syntax. Perhaps you forgot a comma? (<string>, line 1)",
     "output_type": "error",
     "traceback": [
      "Traceback \u001b[0;36m(most recent call last)\u001b[0m:\n",
      "\u001b[0m  File \u001b[1;32m~/venv_tryondiffusion_implementation/lib/python3.10/site-packages/IPython/core/interactiveshell.py:3577\u001b[0m in \u001b[1;35mrun_code\u001b[0m\n    exec(code_obj, self.user_global_ns, self.user_ns)\u001b[0m\n",
      "\u001b[0;36m  Cell \u001b[0;32mIn[28], line 1\u001b[0;36m\n\u001b[0;31m    eval(df.iloc[0]['pose_512'].replace('\\n', ','))\u001b[0;36m\n",
      "\u001b[0;36m  File \u001b[0;32m<string>:1\u001b[0;36m\u001b[0m\n\u001b[0;31m    [[0.50585938 0.146875  ], [0.46289062 0.2359375 ], [0.37304688 0.24375   ], [0.33789062 0.3546875 ], [0.40820312 0.375     ], [0.55078125 0.225     ], [0.5859375  0.3296875 ], [0.50195312 0.3734375 ], [0.41992188 0.4546875 ], [0.42773438 0.6171875 ], [0.45117188 0.796875  ], [0.53320312 0.45      ], [0.55273438 0.6234375 ], [0.55273438 0.825     ], [0.48046875 0.1359375 ], [0.5078125  0.1296875 ], [0.42578125 0.1453125 ], [0.         0.        ]]\u001b[0m\n\u001b[0m      ^\u001b[0m\n\u001b[0;31mSyntaxError\u001b[0m\u001b[0;31m:\u001b[0m invalid syntax. Perhaps you forgot a comma?\n"
     ]
    }
   ],
   "source": [
    "df.iloc[0]['pose_512'].replace('\\n', ',')"
   ]
  },
  {
   "cell_type": "code",
   "execution_count": 60,
   "metadata": {},
   "outputs": [
    {
     "name": "stdout",
     "output_type": "stream",
     "text": [
      "None\n"
     ]
    }
   ],
   "source": [
    "pose = openpose(load_image('/mnt/datadrive/asos_dataset/tshirts_orig_bigest/111/54.png'))\n",
    "print(pose)"
   ]
  },
  {
   "cell_type": "code",
   "execution_count": 61,
   "metadata": {},
   "outputs": [
    {
     "data": {
      "text/html": [
       "<div>\n",
       "<style scoped>\n",
       "    .dataframe tbody tr th:only-of-type {\n",
       "        vertical-align: middle;\n",
       "    }\n",
       "\n",
       "    .dataframe tbody tr th {\n",
       "        vertical-align: top;\n",
       "    }\n",
       "\n",
       "    .dataframe thead th {\n",
       "        text-align: right;\n",
       "    }\n",
       "</style>\n",
       "<table border=\"1\" class=\"dataframe\">\n",
       "  <thead>\n",
       "    <tr style=\"text-align: right;\">\n",
       "      <th></th>\n",
       "      <th>fullpath</th>\n",
       "      <th>item_idx</th>\n",
       "    </tr>\n",
       "  </thead>\n",
       "  <tbody>\n",
       "    <tr>\n",
       "      <th>0</th>\n",
       "      <td>/mnt/datadrive/asos_dataset/tshirts_orig_biges...</td>\n",
       "      <td>0</td>\n",
       "    </tr>\n",
       "    <tr>\n",
       "      <th>1</th>\n",
       "      <td>/mnt/datadrive/asos_dataset/tshirts_orig_biges...</td>\n",
       "      <td>0</td>\n",
       "    </tr>\n",
       "    <tr>\n",
       "      <th>2</th>\n",
       "      <td>/mnt/datadrive/asos_dataset/tshirts_orig_biges...</td>\n",
       "      <td>0</td>\n",
       "    </tr>\n",
       "    <tr>\n",
       "      <th>3</th>\n",
       "      <td>/mnt/datadrive/asos_dataset/tshirts_orig_biges...</td>\n",
       "      <td>0</td>\n",
       "    </tr>\n",
       "    <tr>\n",
       "      <th>4</th>\n",
       "      <td>/mnt/datadrive/asos_dataset/tshirts_orig_biges...</td>\n",
       "      <td>1</td>\n",
       "    </tr>\n",
       "  </tbody>\n",
       "</table>\n",
       "</div>"
      ],
      "text/plain": [
       "                                            fullpath  item_idx\n",
       "0  /mnt/datadrive/asos_dataset/tshirts_orig_biges...         0\n",
       "1  /mnt/datadrive/asos_dataset/tshirts_orig_biges...         0\n",
       "2  /mnt/datadrive/asos_dataset/tshirts_orig_biges...         0\n",
       "3  /mnt/datadrive/asos_dataset/tshirts_orig_biges...         0\n",
       "4  /mnt/datadrive/asos_dataset/tshirts_orig_biges...         1"
      ]
     },
     "execution_count": 61,
     "metadata": {},
     "output_type": "execute_result"
    }
   ],
   "source": [
    "import pandas as pd\n",
    "\n",
    "df = pd.read_csv('/home/roman/tryondiffusion_implementation/tryondiffusion_danny/all_imgs.csv')\n",
    "df.head()"
   ]
  },
  {
   "cell_type": "code",
   "execution_count": 62,
   "metadata": {},
   "outputs": [
    {
     "name": "stderr",
     "output_type": "stream",
     "text": [
      "100%|██████████| 2436/2436 [14:11<00:00,  2.86it/s]\n"
     ]
    }
   ],
   "source": [
    "from tqdm import tqdm\n",
    "\n",
    "new_boba = []\n",
    "for i in tqdm(df['fullpath'].values, total=len(df)):\n",
    "    res = openpose(load_image(i))\n",
    "    # print(res)\n",
    "    # if res is not None:\n",
    "        # print(res.shape)\n",
    "    new_boba.append(res is not None)\n",
    "    \n",
    "\n",
    "df['pose_detected'] = new_boba"
   ]
  },
  {
   "cell_type": "code",
   "execution_count": 69,
   "metadata": {},
   "outputs": [],
   "source": [
    "df.to_csv('/home/roman/tryondiffusion_implementation/tryondiffusion_danny/all_imgs.csv', index=False)"
   ]
  },
  {
   "cell_type": "code",
   "execution_count": null,
   "metadata": {},
   "outputs": [],
   "source": []
  },
  {
   "cell_type": "code",
   "execution_count": null,
   "metadata": {},
   "outputs": [],
   "source": []
  },
  {
   "cell_type": "code",
   "execution_count": 34,
   "metadata": {},
   "outputs": [],
   "source": [
    "df = pd.read_csv('/home/roman/tryondiffusion_implementation/tryondiffusion_danny/all_imgs.csv')\n",
    "# items_reverse_index = {}\n",
    "# df = df[df['pose_detected']]\n",
    "# for group_idx, group in df.groupby(by='item_idx'):    \n",
    "#     items_reverse_index[group_idx] = group['fullpath'].values"
   ]
  },
  {
   "cell_type": "code",
   "execution_count": 35,
   "metadata": {},
   "outputs": [
    {
     "data": {
      "text/html": [
       "<div>\n",
       "<style scoped>\n",
       "    .dataframe tbody tr th:only-of-type {\n",
       "        vertical-align: middle;\n",
       "    }\n",
       "\n",
       "    .dataframe tbody tr th {\n",
       "        vertical-align: top;\n",
       "    }\n",
       "\n",
       "    .dataframe thead th {\n",
       "        text-align: right;\n",
       "    }\n",
       "</style>\n",
       "<table border=\"1\" class=\"dataframe\">\n",
       "  <thead>\n",
       "    <tr style=\"text-align: right;\">\n",
       "      <th></th>\n",
       "      <th>fullpath</th>\n",
       "      <th>item_idx</th>\n",
       "      <th>pose_detected</th>\n",
       "      <th>pose_512</th>\n",
       "      <th>pose_is_none</th>\n",
       "    </tr>\n",
       "  </thead>\n",
       "  <tbody>\n",
       "    <tr>\n",
       "      <th>0</th>\n",
       "      <td>/mnt/datadrive/asos_dataset/tshirts_orig_biges...</td>\n",
       "      <td>0</td>\n",
       "      <td>True</td>\n",
       "      <td>b'\\x80\\x04\\x95\\xad\\x01\\x00\\x00\\x00\\x00\\x00\\x00...</td>\n",
       "      <td>False</td>\n",
       "    </tr>\n",
       "    <tr>\n",
       "      <th>1</th>\n",
       "      <td>/mnt/datadrive/asos_dataset/tshirts_orig_biges...</td>\n",
       "      <td>0</td>\n",
       "      <td>True</td>\n",
       "      <td>b'\\x80\\x04\\x95\\xad\\x01\\x00\\x00\\x00\\x00\\x00\\x00...</td>\n",
       "      <td>False</td>\n",
       "    </tr>\n",
       "    <tr>\n",
       "      <th>2</th>\n",
       "      <td>/mnt/datadrive/asos_dataset/tshirts_orig_biges...</td>\n",
       "      <td>0</td>\n",
       "      <td>False</td>\n",
       "      <td>NaN</td>\n",
       "      <td>True</td>\n",
       "    </tr>\n",
       "    <tr>\n",
       "      <th>3</th>\n",
       "      <td>/mnt/datadrive/asos_dataset/tshirts_orig_biges...</td>\n",
       "      <td>0</td>\n",
       "      <td>True</td>\n",
       "      <td>b'\\x80\\x04\\x95\\xad\\x01\\x00\\x00\\x00\\x00\\x00\\x00...</td>\n",
       "      <td>False</td>\n",
       "    </tr>\n",
       "    <tr>\n",
       "      <th>4</th>\n",
       "      <td>/mnt/datadrive/asos_dataset/tshirts_orig_biges...</td>\n",
       "      <td>1</td>\n",
       "      <td>True</td>\n",
       "      <td>b'\\x80\\x04\\x95\\xad\\x01\\x00\\x00\\x00\\x00\\x00\\x00...</td>\n",
       "      <td>False</td>\n",
       "    </tr>\n",
       "    <tr>\n",
       "      <th>...</th>\n",
       "      <td>...</td>\n",
       "      <td>...</td>\n",
       "      <td>...</td>\n",
       "      <td>...</td>\n",
       "      <td>...</td>\n",
       "    </tr>\n",
       "    <tr>\n",
       "      <th>2431</th>\n",
       "      <td>/mnt/datadrive/asos_dataset/tshirts_orig_biges...</td>\n",
       "      <td>97</td>\n",
       "      <td>True</td>\n",
       "      <td>b'\\x80\\x04\\x95\\xad\\x01\\x00\\x00\\x00\\x00\\x00\\x00...</td>\n",
       "      <td>False</td>\n",
       "    </tr>\n",
       "    <tr>\n",
       "      <th>2432</th>\n",
       "      <td>/mnt/datadrive/asos_dataset/tshirts_orig_biges...</td>\n",
       "      <td>99</td>\n",
       "      <td>True</td>\n",
       "      <td>b'\\x80\\x04\\x95\\xad\\x01\\x00\\x00\\x00\\x00\\x00\\x00...</td>\n",
       "      <td>False</td>\n",
       "    </tr>\n",
       "    <tr>\n",
       "      <th>2433</th>\n",
       "      <td>/mnt/datadrive/asos_dataset/tshirts_orig_biges...</td>\n",
       "      <td>99</td>\n",
       "      <td>True</td>\n",
       "      <td>b'\\x80\\x04\\x95\\xad\\x01\\x00\\x00\\x00\\x00\\x00\\x00...</td>\n",
       "      <td>False</td>\n",
       "    </tr>\n",
       "    <tr>\n",
       "      <th>2434</th>\n",
       "      <td>/mnt/datadrive/asos_dataset/tshirts_orig_biges...</td>\n",
       "      <td>99</td>\n",
       "      <td>True</td>\n",
       "      <td>b'\\x80\\x04\\x95\\xad\\x01\\x00\\x00\\x00\\x00\\x00\\x00...</td>\n",
       "      <td>False</td>\n",
       "    </tr>\n",
       "    <tr>\n",
       "      <th>2435</th>\n",
       "      <td>/mnt/datadrive/asos_dataset/tshirts_orig_biges...</td>\n",
       "      <td>99</td>\n",
       "      <td>True</td>\n",
       "      <td>b'\\x80\\x04\\x95\\xad\\x01\\x00\\x00\\x00\\x00\\x00\\x00...</td>\n",
       "      <td>False</td>\n",
       "    </tr>\n",
       "  </tbody>\n",
       "</table>\n",
       "<p>2436 rows × 5 columns</p>\n",
       "</div>"
      ],
      "text/plain": [
       "                                               fullpath  item_idx  \\\n",
       "0     /mnt/datadrive/asos_dataset/tshirts_orig_biges...         0   \n",
       "1     /mnt/datadrive/asos_dataset/tshirts_orig_biges...         0   \n",
       "2     /mnt/datadrive/asos_dataset/tshirts_orig_biges...         0   \n",
       "3     /mnt/datadrive/asos_dataset/tshirts_orig_biges...         0   \n",
       "4     /mnt/datadrive/asos_dataset/tshirts_orig_biges...         1   \n",
       "...                                                 ...       ...   \n",
       "2431  /mnt/datadrive/asos_dataset/tshirts_orig_biges...        97   \n",
       "2432  /mnt/datadrive/asos_dataset/tshirts_orig_biges...        99   \n",
       "2433  /mnt/datadrive/asos_dataset/tshirts_orig_biges...        99   \n",
       "2434  /mnt/datadrive/asos_dataset/tshirts_orig_biges...        99   \n",
       "2435  /mnt/datadrive/asos_dataset/tshirts_orig_biges...        99   \n",
       "\n",
       "      pose_detected                                           pose_512  \\\n",
       "0              True  b'\\x80\\x04\\x95\\xad\\x01\\x00\\x00\\x00\\x00\\x00\\x00...   \n",
       "1              True  b'\\x80\\x04\\x95\\xad\\x01\\x00\\x00\\x00\\x00\\x00\\x00...   \n",
       "2             False                                                NaN   \n",
       "3              True  b'\\x80\\x04\\x95\\xad\\x01\\x00\\x00\\x00\\x00\\x00\\x00...   \n",
       "4              True  b'\\x80\\x04\\x95\\xad\\x01\\x00\\x00\\x00\\x00\\x00\\x00...   \n",
       "...             ...                                                ...   \n",
       "2431           True  b'\\x80\\x04\\x95\\xad\\x01\\x00\\x00\\x00\\x00\\x00\\x00...   \n",
       "2432           True  b'\\x80\\x04\\x95\\xad\\x01\\x00\\x00\\x00\\x00\\x00\\x00...   \n",
       "2433           True  b'\\x80\\x04\\x95\\xad\\x01\\x00\\x00\\x00\\x00\\x00\\x00...   \n",
       "2434           True  b'\\x80\\x04\\x95\\xad\\x01\\x00\\x00\\x00\\x00\\x00\\x00...   \n",
       "2435           True  b'\\x80\\x04\\x95\\xad\\x01\\x00\\x00\\x00\\x00\\x00\\x00...   \n",
       "\n",
       "      pose_is_none  \n",
       "0            False  \n",
       "1            False  \n",
       "2             True  \n",
       "3            False  \n",
       "4            False  \n",
       "...            ...  \n",
       "2431         False  \n",
       "2432         False  \n",
       "2433         False  \n",
       "2434         False  \n",
       "2435         False  \n",
       "\n",
       "[2436 rows x 5 columns]"
      ]
     },
     "execution_count": 35,
     "metadata": {},
     "output_type": "execute_result"
    }
   ],
   "source": [
    "df"
   ]
  },
  {
   "cell_type": "code",
   "execution_count": null,
   "metadata": {},
   "outputs": [],
   "source": []
  },
  {
   "cell_type": "code",
   "execution_count": null,
   "metadata": {},
   "outputs": [],
   "source": []
  },
  {
   "cell_type": "code",
   "execution_count": 33,
   "metadata": {},
   "outputs": [
    {
     "name": "stdout",
     "output_type": "stream",
     "text": [
      "b'\\x80\\x04\\x95\\xad\\x01\\x00\\x00\\x00\\x00\\x00\\x00\\x8c\\x15numpy.core.multiarray\\x94\\x8c\\x0c_reconstruct\\x94\\x93\\x94\\x8c\\x05numpy\\x94\\x8c\\x07ndarray\\x94\\x93\\x94K\\x00\\x85\\x94C\\x01b\\x94\\x87\\x94R\\x94(K\\x01K\\x12K\\x02\\x86\\x94h\\x03\\x8c\\x05dtype\\x94\\x93\\x94\\x8c\\x02f8\\x94\\x89\\x88\\x87\\x94R\\x94(K\\x03\\x8c\\x01<\\x94NNNJ\\xff\\xff\\xff\\xffJ\\xff\\xff\\xff\\xffK\\x00t\\x94b\\x89B \\x01\\x00\\x00\\x00\\x00\\x00\\x00\\x000\\xe0?\\xcd\\xcc\\xcc\\xcc\\xcc\\xcc\\xc2?\\x00\\x00\\x00\\x00\\x00\\xa0\\xdd?333333\\xce?\\x00\\x00\\x00\\x00\\x00\\xe0\\xd7?333333\\xcf?\\x00\\x00\\x00\\x00\\x00\\xa0\\xd5?33333\\xb3\\xd6?\\x00\\x00\\x00\\x00\\x00 \\xda?\\x00\\x00\\x00\\x00\\x00\\x00\\xd8?\\x00\\x00\\x00\\x00\\x00\\xa0\\xe1?\\xcd\\xcc\\xcc\\xcc\\xcc\\xcc\\xcc?\\x00\\x00\\x00\\x00\\x00\\xc0\\xe2?\\x9a\\x99\\x99\\x99\\x99\\x19\\xd5?\\x00\\x00\\x00\\x00\\x00\\x10\\xe0?fffff\\xe6\\xd7?\\x00\\x00\\x00\\x00\\x00\\xe0\\xda?\\x9a\\x99\\x99\\x99\\x99\\x19\\xdd?\\x00\\x00\\x00\\x00\\x00`\\xdb?\\x00\\x00\\x00\\x00\\x00\\xc0\\xe3?\\x00\\x00\\x00\\x00\\x00\\xe0\\xdc?\\x00\\x00\\x00\\x00\\x00\\x80\\xe9?\\x00\\x00\\x00\\x00\\x00\\x10\\xe1?\\xcd\\xcc\\xcc\\xcc\\xcc\\xcc\\xdc?\\x00\\x00\\x00\\x00\\x00\\xb0\\xe1?33333\\xf3\\xe3?\\x00\\x00\\x00\\x00\\x00\\xb0\\xe1?ffffff\\xea?\\x00\\x00\\x00\\x00\\x00\\xc0\\xde?ffffff\\xc1?\\x00\\x00\\x00\\x00\\x00@\\xe0?\\x9a\\x99\\x99\\x99\\x99\\x99\\xc0?\\x00\\x00\\x00\\x00\\x00@\\xdb?\\x9a\\x99\\x99\\x99\\x99\\x99\\xc2?\\x00\\x00\\x00\\x00\\x00\\x00\\x00\\x00\\x00\\x00\\x00\\x00\\x00\\x00\\x00\\x00\\x94t\\x94b.'\n"
     ]
    }
   ],
   "source": [
    "import torch\n",
    "\n",
    "from pathlib import Path\n",
    "prepared_ds_path = Path('/mnt/datadrive/asos_dataset/prepared_64/tensors').rglob('*.pt')\n",
    "for i in prepared_ds_path:\n",
    "    xx = torch.load(i)\n",
    "    print(xx['person_poses'])   \n",
    "    break"
   ]
  }
 ],
 "metadata": {
  "kernelspec": {
   "display_name": "venv_tryondiffusion_implementation",
   "language": "python",
   "name": "python3"
  },
  "language_info": {
   "codemirror_mode": {
    "name": "ipython",
    "version": 3
   },
   "file_extension": ".py",
   "mimetype": "text/x-python",
   "name": "python",
   "nbconvert_exporter": "python",
   "pygments_lexer": "ipython3",
   "version": "3.10.12"
  },
  "orig_nbformat": 4
 },
 "nbformat": 4,
 "nbformat_minor": 2
}
