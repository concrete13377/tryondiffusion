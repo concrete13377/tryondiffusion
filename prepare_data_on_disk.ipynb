{
 "cells": [
  {
   "cell_type": "code",
   "execution_count": 1,
   "metadata": {},
   "outputs": [],
   "source": [
    "from pathlib import Path\n",
    "import pandas as pd\n",
    "from PIL import Image"
   ]
  },
  {
   "cell_type": "code",
   "execution_count": null,
   "metadata": {},
   "outputs": [],
   "source": [
    "import sys\n",
    "sys.path.append('/home/roman/tryondiffusion_implementation/tryondiffusion_danny/tryondiffusion')\n",
    "from tryondiffusion import TryOnImagen, TryOnImagenTrainer, get_unet_by_name, SyntheticTryonDataset, tryondiffusion_collate_fn\n",
    "\n",
    "\n",
    "TRAIN_UNET_NUMBER = 1\n",
    "BASE_UNET_IMAGE_SIZE = (64, 64)\n",
    "SR_UNET_IMAGE_SIZE = (256, 256)\n",
    "BATCH_SIZE =2 \n",
    "GRADIENT_ACCUMULATION_STEPS = 2\n",
    "NUM_ITERATIONS = 100\n",
    "TIMESTEPS = (1000, 1000)\n",
    "\n",
    "dataset = SyntheticTryonDataset(\n",
    "        num_samples=500, image_size=SR_UNET_IMAGE_SIZE if TRAIN_UNET_NUMBER == 2 else BASE_UNET_IMAGE_SIZE\n",
    "    )\n",
    "\n",
    "prepared_ds_path = '/mnt/datadrive/asos_dataset/prepared_64/'\n",
    "\n",
    "\n",
    "    "
   ]
  },
  {
   "cell_type": "code",
   "execution_count": 14,
   "metadata": {},
   "outputs": [
    {
     "name": "stdout",
     "output_type": "stream",
     "text": [
      "prepared_64  tshirts_orig_bigest\n"
     ]
    }
   ],
   "source": [
    "!ls /mnt/datadrive/asos_dataset/"
   ]
  }
 ],
 "metadata": {
  "kernelspec": {
   "display_name": "venv_tryondiffusion_implementation",
   "language": "python",
   "name": "python3"
  },
  "language_info": {
   "codemirror_mode": {
    "name": "ipython",
    "version": 3
   },
   "file_extension": ".py",
   "mimetype": "text/x-python",
   "name": "python",
   "nbconvert_exporter": "python",
   "pygments_lexer": "ipython3",
   "version": "3.10.12"
  },
  "orig_nbformat": 4
 },
 "nbformat": 4,
 "nbformat_minor": 2
}
